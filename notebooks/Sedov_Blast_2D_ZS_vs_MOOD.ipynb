{
 "cells": [
  {
   "cell_type": "code",
   "execution_count": 1,
   "id": "d85676fe",
   "metadata": {},
   "outputs": [],
   "source": [
    "from functools import partial\n",
    "\n",
    "import matplotlib.pyplot as plt\n",
    "\n",
    "from superfv import EulerSolver, OutputLoader, plot_1d_slice\n",
    "from superfv.initial_conditions import sedov\n",
    "from teyssier.sedov import sedovana"
   ]
  },
  {
   "cell_type": "code",
   "execution_count": 2,
   "id": "8d7f60c7",
   "metadata": {},
   "outputs": [
    {
     "name": "stdout",
     "output_type": "stream",
     "text": [
      "Running MUSCL-Hancock...\n",
      "Overwriting existing output directory \"../out/sedov2d/MUSCL-Hancock\".\n",
      "Step #1116 @ t=8.00e-01 | dt=8.37e-04 | min(rho)=2.43e-03, min(P)=1.00e-05 | (done)                 \n",
      "Running ZS3...\n",
      "Overwriting existing output directory \"../out/sedov2d/ZS3\".\n",
      "Step #1176 @ t=8.00e-01 | dt=8.02e-04 | min(rho)=2.26e-03, min(P)=2.01e-06 | (done)                 \n",
      "Running MM3...\n",
      "Overwriting existing output directory \"../out/sedov2d/MM3\".\n",
      "Step #1117 @ t=8.01e-01 | dt=8.38e-04 | min(rho)=2.45e-03, min(P)=1.00e-05 | (done)                 \n"
     ]
    }
   ],
   "source": [
    "N = 64\n",
    "T = 0.8\n",
    "gamma = 1.4\n",
    "\n",
    "path = \"../out/sedov2d/\"\n",
    "overwrite = \"all\"\n",
    "\n",
    "configs = {\n",
    "    \"MUSCL-Hancock\": dict(\n",
    "        riemann_solver=\"hllc\",\n",
    "        flux_recipe=2,\n",
    "        p=1,\n",
    "        MUSCL=True,\n",
    "        MUSCL_limiter=\"moncen\",\n",
    "        SED=True,\n",
    "    ),\n",
    "    \"ZS3\": dict(\n",
    "        GL=False,\n",
    "        riemann_solver=\"hllc\",\n",
    "        flux_recipe=2,\n",
    "        lazy_primitives=True,\n",
    "        p=3,\n",
    "        ZS=True,\n",
    "        include_corners=True,\n",
    "        adaptive_dt=False,\n",
    "        PAD={\"rho\": (0, None), \"P\": (0, None)},\n",
    "        SED=True,\n",
    "    ),\n",
    "    \"MM3\": dict(\n",
    "        riemann_solver=\"hllc\",\n",
    "        flux_recipe=2,\n",
    "        lazy_primitives=True,\n",
    "        p=3,\n",
    "        MOOD=True,\n",
    "        cascade=\"muscl\",\n",
    "        MUSCL_limiter=\"moncen\",\n",
    "        max_MOOD_iters=1,\n",
    "        limiting_vars=\"actives\",\n",
    "        NAD=True,\n",
    "        include_corners=True,\n",
    "        NAD_rtol=1e-2,\n",
    "        NAD_atol=1e-2,\n",
    "        PAD={\"rho\": (0, None), \"P\": (0, None)},\n",
    "        SED=True,\n",
    "    ),\n",
    "}\n",
    "\n",
    "sims = {}\n",
    "for name, config in configs.items():\n",
    "    if overwrite != \"all\":\n",
    "        if name not in overwrite:\n",
    "            try:\n",
    "                sim = OutputLoader(path + name)\n",
    "                sims[name] = sim\n",
    "                continue\n",
    "            except FileNotFoundError:\n",
    "                pass\n",
    "\n",
    "    print(f\"Running {name}...\")\n",
    "    sim = EulerSolver(\n",
    "        ic=partial(sedov, P0=1e-5, h=1 / N, gamma=gamma),\n",
    "        gamma=gamma,\n",
    "        bcx=(\"reflective\", \"free\"),\n",
    "        bcy=(\"reflective\", \"free\"),\n",
    "        nx=N,\n",
    "        ny=N,\n",
    "        cupy=False,\n",
    "        **config,\n",
    "    )\n",
    "\n",
    "    try:\n",
    "        if config.get(\"MUSCL\", False):\n",
    "            sim.musclhancock(T, allow_overshoot=True, path=path + name, overwrite=True)\n",
    "        else:\n",
    "            sim.run(T, q_max=2, allow_overshoot=True, path=path + name, overwrite=True)\n",
    "        sims[name] = sim\n",
    "    except Exception as e:\n",
    "        print(f\"Failed: {e}\")\n",
    "        continue"
   ]
  },
  {
   "cell_type": "code",
   "execution_count": 3,
   "id": "a6c2da4d",
   "metadata": {},
   "outputs": [
    {
     "name": "stdout",
     "output_type": "stream",
     "text": [
      "chi0=np.float64(1.0018778777154949)\n"
     ]
    }
   ],
   "source": [
    "# analytical solution for plotting\n",
    "dim = 2\n",
    "E0 = 1\n",
    "rho0 = 1\n",
    "\n",
    "r, d, u, P = sedovana(gamma, dim)\n",
    "\n",
    "r *= (E0 / rho0) ** (1.0 / (dim + 2)) * T ** (2 / (dim + 2))\n",
    "d *= rho0\n",
    "u *= (E0 / rho0) ** (1.0 / (dim + 2)) * T ** (-dim / (dim + 2))\n",
    "P *= (E0 / rho0) ** (2.0 / (dim + 2)) * T ** (-2 * dim / (dim + 2)) * rho0"
   ]
  },
  {
   "cell_type": "code",
   "execution_count": 4,
   "id": "8deba083",
   "metadata": {},
   "outputs": [
    {
     "name": "stderr",
     "output_type": "stream",
     "text": [
      "/Users/jonathan/Desktop/superfv/superfv/visualization.py:38: UserWarning: Cell-centered coordinate 0 not exactly matched in mesh; using nearest: 0.0078125\n",
      "  warnings.warn(\n",
      "/Users/jonathan/Desktop/superfv/superfv/visualization.py:38: UserWarning: Cell-centered coordinate 0 not exactly matched in mesh; using nearest: 0.0078125\n",
      "  warnings.warn(\n",
      "/Users/jonathan/Desktop/superfv/superfv/visualization.py:38: UserWarning: Cell-centered coordinate 0 not exactly matched in mesh; using nearest: 0.0078125\n",
      "  warnings.warn(\n",
      "/Users/jonathan/Desktop/superfv/superfv/visualization.py:38: UserWarning: Cell-centered coordinate 0 not exactly matched in mesh; using nearest: 0.0078125\n",
      "  warnings.warn(\n"
     ]
    },
    {
     "data": {
      "text/plain": [
       "(0.0, 1.0)"
      ]
     },
     "execution_count": 4,
     "metadata": {},
     "output_type": "execute_result"
    },
    {
     "data": {
      "image/png": "[encoded data removed]",
      "text/plain": [
       "<Figure size 1000x300 with 2 Axes>"
      ]
     },
     "metadata": {},
     "output_type": "display_data"
    }
   ],
   "source": [
    "fig, axs = plt.subplots(1, 2, sharex=True, sharey=\"row\", figsize=(10, 3))\n",
    "\n",
    "axs[0].set_ylabel(r\"$\\rho$\")\n",
    "axs[1].set_ylabel(r\"$\\rho$\")\n",
    "axs[0].set_xlim(0, 1)\n",
    "\n",
    "style = dict(linewidth=1, markersize=3)\n",
    "\n",
    "axs[0].plot(r, d, color=\"k\", linestyle=\"--\", label=\"exact\", **style)\n",
    "axs[1].plot(r, d, color=\"k\", linestyle=\"--\", label=\"exact\", **style)\n",
    "\n",
    "for name, sim in sims.items():\n",
    "    MOOD = \"MM\" in name\n",
    "    jlist = [0, 1] if name == \"MUSCL-Hancock\" else [1] if MOOD else [0]\n",
    "    for j in jlist:\n",
    "        plot_1d_slice(\n",
    "            sim,\n",
    "            axs[j],\n",
    "            \"rho\",\n",
    "            y=0,\n",
    "            trouble_marker=\"o\" if MOOD else None,\n",
    "            label=name,\n",
    "            marker=\"o\",\n",
    "            mfc=\"none\",\n",
    "            **style,\n",
    "        )\n",
    "\n",
    "axs[0].legend()\n",
    "axs[1].legend()\n",
    "\n",
    "axs[0].set_xlim(0, 1)"
   ]
  },
  {
   "cell_type": "code",
   "execution_count": 5,
   "id": "173ae98d",
   "metadata": {},
   "outputs": [
    {
     "name": "stdout",
     "output_type": "stream",
     "text": [
      "Routine                      # of calls  Total time (s) % time\n",
      "---------------------------  ----------  --------------  ------\n",
      "wall                                  1           28.50   100.0\n",
      "take_step                          1116           28.37    99.6\n",
      "compute_dt                         1116            0.23     0.8\n",
      "apply_bc                           1118            0.10     0.3\n",
      "riemann_solver                     2232            4.60    16.2\n",
      "zhang_shu_limiter                     0               -       -\n",
      "MOOD_loop                             0               -       -\n",
      "      detect_troubled_cells           0               -       -\n",
      "      revise_fluxes                   0               -       -\n",
      "cuda_sync                             0               -       -\n",
      "snapshot                              2            0.02     0.1\n",
      "minisnapshot                       1117            0.07     0.3\n",
      "\n"
     ]
    }
   ],
   "source": [
    "sims[\"MUSCL-Hancock\"].print_timings()"
   ]
  },
  {
   "cell_type": "code",
   "execution_count": 6,
   "id": "d7e1cd44-9193-47a0-8463-0ea4071220df",
   "metadata": {},
   "outputs": [
    {
     "name": "stdout",
     "output_type": "stream",
     "text": [
      "Routine                      # of calls  Total time (s) % time\n",
      "---------------------------  ----------  --------------  ------\n",
      "wall                                  1          109.40   100.0\n",
      "take_step                          1176          109.27    99.9\n",
      "compute_dt                         1176            0.24     0.2\n",
      "apply_bc                           3530            0.36     0.3\n",
      "riemann_solver                     7056           16.75    15.3\n",
      "zhang_shu_limiter                  3528           59.27    54.2\n",
      "MOOD_loop                             0               -       -\n",
      "      detect_troubled_cells           0               -       -\n",
      "      revise_fluxes                   0               -       -\n",
      "cuda_sync                             0               -       -\n",
      "snapshot                              2            0.02     0.0\n",
      "minisnapshot                       1177            0.08     0.1\n",
      "\n"
     ]
    }
   ],
   "source": [
    "sims[\"ZS3\"].print_timings()"
   ]
  },
  {
   "cell_type": "code",
   "execution_count": 7,
   "id": "331eb657",
   "metadata": {},
   "outputs": [
    {
     "name": "stdout",
     "output_type": "stream",
     "text": [
      "Routine                      # of calls  Total time (s) % time\n",
      "---------------------------  ----------  --------------  ------\n",
      "wall                                  1          135.33   100.0\n",
      "take_step                          1117          135.21    99.9\n",
      "compute_dt                         1117            0.23     0.2\n",
      "apply_bc                           6704            1.03     0.8\n",
      "riemann_solver                    11942           29.22    21.6\n",
      "zhang_shu_limiter                     0               -       -\n",
      "MOOD_loop                          3351           82.46    60.9\n",
      "      detect_troubled_cells        3351           46.87    34.6\n",
      "      revise_fluxes                2620           35.54    26.3\n",
      "cuda_sync                             0               -       -\n",
      "snapshot                              2            0.02     0.0\n",
      "minisnapshot                       1118            0.08     0.1\n",
      "\n"
     ]
    }
   ],
   "source": [
    "sims[\"MM3\"].print_timings()"
   ]
  }
 ],
 "metadata": {
  "kernelspec": {
   "display_name": "superfv",
   "language": "python",
   "name": "python3"
  },
  "language_info": {
   "codemirror_mode": {
    "name": "ipython",
    "version": 3
   },
   "file_extension": ".py",
   "mimetype": "text/x-python",
   "name": "python",
   "nbconvert_exporter": "python",
   "pygments_lexer": "ipython3",
   "version": "3.12.9"
  }
 },
 "nbformat": 4,
 "nbformat_minor": 5
}
