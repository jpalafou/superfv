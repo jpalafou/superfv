{
 "cells": [
  {
   "cell_type": "code",
   "execution_count": 1,
   "id": "c7e8e2ed",
   "metadata": {},
   "outputs": [],
   "source": [
    "import matplotlib.pyplot as plt\n",
    "import numpy as np\n",
    "import pandas as pd\n",
    "\n",
    "from superfv import EulerSolver, initial_conditions, plot_1d_slice\n",
    "from teyssier.muscl import muscl, cons_to_prim\n",
    "from teyssier.sedov import sedovana"
   ]
  },
  {
   "cell_type": "code",
   "execution_count": 2,
   "id": "8edee99a",
   "metadata": {},
   "outputs": [],
   "source": [
    "gamma = 1.4\n",
    "N = 100\n",
    "T = 0.8"
   ]
  },
  {
   "cell_type": "code",
   "execution_count": 3,
   "id": "a1187aba",
   "metadata": {},
   "outputs": [],
   "source": [
    "def sedov(idx, x, y, z, t, xp):\n",
    "    return initial_conditions.sedov(\n",
    "        idx,\n",
    "        x,\n",
    "        y,\n",
    "        z,\n",
    "        t,\n",
    "        xp=xp,\n",
    "        h=1 / N,\n",
    "        gamma=gamma,\n",
    "        P0=1e-5,\n",
    "        rho0=1.0,\n",
    "    )\n",
    "\n",
    "\n",
    "sim = EulerSolver(\n",
    "    ic=sedov,\n",
    "    bcx=(\"reflective\", \"free\"),\n",
    "    nx=N,\n",
    "    riemann_solver=\"hllct\",\n",
    "    p=1,\n",
    "    flux_recipe=2,\n",
    "    MUSCL=True,\n",
    "    MUSCL_limiter=\"moncen\",\n",
    ")"
   ]
  },
  {
   "cell_type": "code",
   "execution_count": 4,
   "id": "74e4a8fe",
   "metadata": {},
   "outputs": [
    {
     "name": "stdout",
     "output_type": "stream",
     "text": [
      "Step #306 @ t=8.01e-01 | dt=2.94e-03 | min(rho)=3.11e-02, min(P)=1.00e-05 | (done)                  \n"
     ]
    }
   ],
   "source": [
    "sim.musclhancock(T, allow_overshoot=True)"
   ]
  },
  {
   "cell_type": "code",
   "execution_count": 5,
   "id": "f7bcbcb7",
   "metadata": {},
   "outputs": [
    {
     "name": "stdout",
     "output_type": "stream",
     "text": [
      "cell= 100  itermax= 100000\n",
      "Done  306 0.8008567282004745\n"
     ]
    }
   ],
   "source": [
    "ut = muscl(\n",
    "    tend=T,\n",
    "    n=N,\n",
    "    ic_type=\"sedov\",\n",
    "    bc_type=\"sedov\",\n",
    "    riemann_solver=\"hllc\",\n",
    "    slp_type=\"moncen\",\n",
    ")\n",
    "wt = cons_to_prim(ut[-1])\n",
    "x = (np.arange(N) + 0.5) / N"
   ]
  },
  {
   "cell_type": "code",
   "execution_count": 6,
   "id": "c68b0913",
   "metadata": {},
   "outputs": [
    {
     "name": "stdout",
     "output_type": "stream",
     "text": [
      "chi0=np.float64(0.97306051566207)\n"
     ]
    }
   ],
   "source": [
    "dim = 1\n",
    "E0 = 1\n",
    "rho0 = 1\n",
    "\n",
    "r, d, u, P = sedovana(gamma, dim)\n",
    "\n",
    "r *= (E0 / rho0) ** (1.0 / (dim + 2)) * T ** (2 / (dim + 2))\n",
    "d *= rho0\n",
    "u *= (E0 / rho0) ** (1.0 / (dim + 2)) * T ** (-dim / (dim + 2))\n",
    "P *= (E0 / rho0) ** (2.0 / (dim + 2)) * T ** (-2 * dim / (dim + 2)) * rho0"
   ]
  },
  {
   "cell_type": "code",
   "execution_count": 7,
   "id": "c85d2893",
   "metadata": {},
   "outputs": [
    {
     "name": "stderr",
     "output_type": "stream",
     "text": [
      "/var/folders/_g/1khjnxg53bn4cl_8ttksw3pc0000gn/T/ipykernel_76274/1098133986.py:2: FutureWarning: The 'delim_whitespace' keyword in pd.read_csv is deprecated and will be removed in a future version. Use ``sep='\\s+'`` instead\n",
      "  df = pd.read_csv(\n"
     ]
    }
   ],
   "source": [
    "# import romain solution as a dataframe\n",
    "df = pd.read_csv(\n",
    "    \"romain_sedov.txt\",\n",
    "    delim_whitespace=True,\n",
    "    usecols=[1, 2, 3, 4],\n",
    "    names=[\"x\", \"d\", \"u\", \"P\"],\n",
    "    skiprows=1,\n",
    ")"
   ]
  },
  {
   "cell_type": "code",
   "execution_count": 8,
   "id": "51b4e2f8",
   "metadata": {},
   "outputs": [
    {
     "data": {
      "text/plain": [
       "<matplotlib.legend.Legend at 0x11b7c99a0>"
      ]
     },
     "execution_count": 8,
     "metadata": {},
     "output_type": "execute_result"
    },
    {
     "data": {
      "image/png": "[encoded data removed]",
      "text/plain": [
       "<Figure size 640x480 with 1 Axes>"
      ]
     },
     "metadata": {},
     "output_type": "display_data"
    }
   ],
   "source": [
    "fig, ax = plt.subplots()\n",
    "\n",
    "ax.set_ylabel(r\"$\\rho$\")\n",
    "ax.set_xlabel(r\"$x$\")\n",
    "ax.set_xlim(0.7, 0.9)\n",
    "\n",
    "ax.plot(r, d, color=\"k\", label=\"analytic\")\n",
    "ax.plot(df[\"x\"], df[\"d\"], label=\"miniramses\")\n",
    "ax.plot(x, wt[0], label=\"APC-523\", linestyle=\"--\")\n",
    "plot_1d_slice(sim, ax, \"rho\", label=\"superfv\", linestyle=\"-.\")\n",
    "\n",
    "ax.legend()"
   ]
  }
 ],
 "metadata": {
  "kernelspec": {
   "display_name": "superfv",
   "language": "python",
   "name": "python3"
  },
  "language_info": {
   "codemirror_mode": {
    "name": "ipython",
    "version": 3
   },
   "file_extension": ".py",
   "mimetype": "text/x-python",
   "name": "python",
   "nbconvert_exporter": "python",
   "pygments_lexer": "ipython3",
   "version": "3.12.9"
  }
 },
 "nbformat": 4,
 "nbformat_minor": 5
}
