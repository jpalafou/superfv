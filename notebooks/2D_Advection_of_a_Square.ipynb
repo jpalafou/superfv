{
 "cells": [
  {
   "cell_type": "code",
   "execution_count": 1,
   "metadata": {},
   "outputs": [],
   "source": [
    "import matplotlib.pyplot as plt\n",
    "import numpy as np\n",
    "\n",
    "from superfv import AdvectionSolver\n",
    "import superfv.initial_conditions as ic\n",
    "import superfv.visualization as vis"
   ]
  },
  {
   "cell_type": "code",
   "execution_count": 2,
   "metadata": {},
   "outputs": [
    {
     "name": "stderr",
     "output_type": "stream",
     "text": [
      "/Users/jonathan/Desktop/superfv/superfv/finite_volume_solver.py:294: UserWarning: CuPy is not available. Using NumPy instead.\n",
      "  warnings.warn(\"CuPy is not available. Using NumPy instead.\")\n"
     ]
    }
   ],
   "source": [
    "N = 512\n",
    "p = 3\n",
    "\n",
    "sim = AdvectionSolver(\n",
    "    ic=lambda idx, x, y, z: ic.square(idx, x, y, z, vx=2, vy=1),\n",
    "    nx=N,\n",
    "    ny=N,\n",
    "    p=p,\n",
    "    interpolation_scheme=\"transverse\",\n",
    "    cupy=True,\n",
    "    log_every_step=False,\n",
    ")"
   ]
  },
  {
   "cell_type": "code",
   "execution_count": 3,
   "metadata": {},
   "outputs": [
    {
     "name": "stderr",
     "output_type": "stream",
     "text": [
      "100%|██████████| 5/5 [00:08<00:00,  1.74s/it]\n"
     ]
    }
   ],
   "source": [
    "sim.run(n=5)"
   ]
  },
  {
   "cell_type": "code",
   "execution_count": 4,
   "metadata": {},
   "outputs": [
    {
     "name": "stdout",
     "output_type": "stream",
     "text": [
      "Step 1: 5.45e+05 cells updated per second\n",
      "Step 2: 6.21e+05 cells updated per second\n",
      "Step 3: 6.19e+05 cells updated per second\n",
      "Step 4: 6.17e+05 cells updated per second\n",
      "Step 5: 6.19e+05 cells updated per second\n"
     ]
    }
   ],
   "source": [
    "n_cells_updated_per_s = (\n",
    "    np.array(sim.minisnapshots[\"n_updates\"])[1:]\n",
    "    / np.array(sim.minisnapshots[\"run_time\"])[1:]\n",
    ")\n",
    "\n",
    "for i in range(len(n_cells_updated_per_s)):\n",
    "    print(f\"Step {i+1}: {n_cells_updated_per_s[i]:.2e} cells updated per second\")"
   ]
  },
  {
   "cell_type": "code",
   "execution_count": 5,
   "metadata": {},
   "outputs": [
    {
     "name": "stderr",
     "output_type": "stream",
     "text": [
      "/Users/jonathan/Desktop/superfv/superfv/visualization.py:32: UserWarning: Coordinate 0.5 not found in array. Using nearest: 0.4990234375.\n",
      "  warnings.warn(\n",
      "/Users/jonathan/Desktop/superfv/superfv/visualization.py:32: UserWarning: Coordinate 0.5 not found in array. Using nearest: 0.4990234375.\n",
      "  warnings.warn(\n"
     ]
    },
    {
     "data": {
      "image/png": "[encoded data removed]",
      "text/plain": [
       "<Figure size 1000x500 with 1 Axes>"
      ]
     },
     "metadata": {},
     "output_type": "display_data"
    }
   ],
   "source": [
    "fig, ax = plt.subplots(1, 1, figsize=(10, 5))\n",
    "vis.plot_1d_slice(sim, ax, \"rho\", cell_averaged=True, x=None, t=0, color=\"k\")\n",
    "vis.plot_1d_slice(sim, ax, \"rho\", cell_averaged=True, x=None, xlabel=True)"
   ]
  },
  {
   "cell_type": "code",
   "execution_count": null,
   "metadata": {},
   "outputs": [],
   "source": []
  }
 ],
 "metadata": {
  "kernelspec": {
   "display_name": "superfv",
   "language": "python",
   "name": "python3"
  },
  "language_info": {
   "codemirror_mode": {
    "name": "ipython",
    "version": 3
   },
   "file_extension": ".py",
   "mimetype": "text/x-python",
   "name": "python",
   "nbconvert_exporter": "python",
   "pygments_lexer": "ipython3",
   "version": "3.12.9"
  }
 },
 "nbformat": 4,
 "nbformat_minor": 4
}
