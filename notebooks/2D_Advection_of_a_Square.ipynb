{
 "cells": [
  {
   "cell_type": "code",
   "execution_count": 1,
   "metadata": {},
   "outputs": [],
   "source": [
    "import cProfile\n",
    "from io import StringIO\n",
    "import pstats\n",
    "\n",
    "import matplotlib.pyplot as plt\n",
    "import numpy as np\n",
    "\n",
    "from superfv import AdvectionSolver\n",
    "import superfv.initial_conditions as ic\n",
    "import superfv.visualization as vis"
   ]
  },
  {
   "cell_type": "code",
   "execution_count": 2,
   "metadata": {},
   "outputs": [],
   "source": [
    "N = 1024\n",
    "p = 0\n",
    "\n",
    "sim = AdvectionSolver(\n",
    "    ic=lambda idx, x, y, z: ic.square(idx, x, y, z, vx=2, vy=1),\n",
    "    nx=N,\n",
    "    ny=N,\n",
    "    p=p,\n",
    "    interpolation_scheme=\"transverse\",\n",
    "    cupy=True,\n",
    "    log_every_step=False,\n",
    ")"
   ]
  },
  {
   "cell_type": "code",
   "execution_count": 3,
   "metadata": {},
   "outputs": [
    {
     "name": "stderr",
     "output_type": "stream",
     "text": [
      "100%|██████████| 5/5 [00:00<00:00, 26.28it/s]\n"
     ]
    }
   ],
   "source": [
    "sim.run(n=5)"
   ]
  },
  {
   "cell_type": "code",
   "execution_count": null,
   "metadata": {},
   "outputs": [],
   "source": [
    "pr = cProfile.Profile()\n",
    "pr.enable()\n",
    "sim.run(n=5)\n",
    "pr.disable()\n",
    "\n",
    "s = StringIO()\n",
    "ps = pstats.Stats(pr, stream=s).sort_stats(\"cumtime\")\n",
    "ps.print_stats()\n",
    "\n",
    "with open(\"profile_output.out\", \"w\") as f:\n",
    "    f.write(s.getvalue())"
   ]
  },
  {
   "cell_type": "code",
   "execution_count": null,
   "metadata": {},
   "outputs": [],
   "source": [
    "sim.timer.print_report()"
   ]
  },
  {
   "cell_type": "code",
   "execution_count": null,
   "metadata": {},
   "outputs": [],
   "source": [
    "fig, axs = plt.subplots(2, 1, sharex=True)\n",
    "\n",
    "axs[1].set_xlabel(\"Step #\")\n",
    "axs[0].set_ylabel(\"Run time (s)\")\n",
    "axs[1].set_ylabel(\"# Updates/s\")\n",
    "axs[0].set_yscale(\"log\")\n",
    "axs[1].set_yscale(\"log\")\n",
    "\n",
    "axs[0].plot(\n",
    "    sim.minisnapshots[\"run_time\"][1:], linestyle=\"--\", marker=\"*\", label=f\"{p=}, {N=}\"\n",
    ")\n",
    "axs[1].plot(\n",
    "    np.array(sim.minisnapshots[\"n_updates\"])[1:]\n",
    "    / np.array(sim.minisnapshots[\"run_time\"])[1:],\n",
    "    linestyle=\"--\",\n",
    "    marker=\"*\",\n",
    "    label=f\"{p=}, {N=}\",\n",
    ")\n",
    "\n",
    "axs[0].legend()"
   ]
  },
  {
   "cell_type": "code",
   "execution_count": null,
   "metadata": {},
   "outputs": [],
   "source": [
    "fig, ax = plt.subplots(1, 1, figsize=(10, 5))\n",
    "vis.plot_1d_slice(sim, ax, \"rho\", cell_averaged=True, x=None, t=0, color=\"k\")\n",
    "vis.plot_1d_slice(sim, ax, \"rho\", cell_averaged=True, x=None, xlabel=True)"
   ]
  },
  {
   "cell_type": "code",
   "execution_count": null,
   "metadata": {},
   "outputs": [],
   "source": []
  }
 ],
 "metadata": {
  "kernelspec": {
   "display_name": "superfv [~/.conda/envs/superfv/]",
   "language": "python",
   "name": "conda_superfv"
  },
  "language_info": {
   "codemirror_mode": {
    "name": "ipython",
    "version": 3
   },
   "file_extension": ".py",
   "mimetype": "text/x-python",
   "name": "python",
   "nbconvert_exporter": "python",
   "pygments_lexer": "ipython3",
   "version": "3.12.2"
  }
 },
 "nbformat": 4,
 "nbformat_minor": 4
}
