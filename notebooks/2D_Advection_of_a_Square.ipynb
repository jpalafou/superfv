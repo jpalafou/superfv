{
 "cells": [
  {
   "cell_type": "code",
   "execution_count": 1,
   "metadata": {},
   "outputs": [],
   "source": [
    "import matplotlib.pyplot as plt\n",
    "\n",
    "from superfv import AdvectionSolver\n",
    "import superfv.initial_conditions as ic\n",
    "import superfv.visualization as vis"
   ]
  },
  {
   "cell_type": "code",
   "execution_count": 2,
   "metadata": {},
   "outputs": [],
   "source": [
    "N = 256\n",
    "p = 3\n",
    "\n",
    "sim = AdvectionSolver(\n",
    "    ic=lambda idx, x, y, z: ic.square(idx, x, y, z, vx=2, vy=1),\n",
    "    nx=N,\n",
    "    ny=N,\n",
    "    p=p,\n",
    "    interpolation_scheme=\"transverse\",\n",
    "    cupy=False,\n",
    ")"
   ]
  },
  {
   "cell_type": "code",
   "execution_count": 3,
   "metadata": {},
   "outputs": [
    {
     "name": "stderr",
     "output_type": "stream",
     "text": [
      "100%|██████████| 5/5 [00:01<00:00,  4.44it/s]\n"
     ]
    }
   ],
   "source": [
    "sim.run(n=5)"
   ]
  },
  {
   "cell_type": "code",
   "execution_count": 4,
   "metadata": {},
   "outputs": [
    {
     "name": "stderr",
     "output_type": "stream",
     "text": [
      "/Users/jonathan/Desktop/superfv/superfv/visualization.py:32: UserWarning: Coordinate 0.5 not found in array. Using nearest: 0.498046875.\n",
      "  warnings.warn(\n",
      "/Users/jonathan/Desktop/superfv/superfv/visualization.py:32: UserWarning: Coordinate 0.5 not found in array. Using nearest: 0.498046875.\n",
      "  warnings.warn(\n"
     ]
    },
    {
     "data": {
      "image/png": "[encoded data removed]",
      "text/plain": [
       "<Figure size 1000x500 with 1 Axes>"
      ]
     },
     "metadata": {},
     "output_type": "display_data"
    }
   ],
   "source": [
    "fig, ax = plt.subplots(1, 1, figsize=(10, 5))\n",
    "vis.plot_1d_slice(sim, ax, \"rho\", cell_averaged=True, x=None, t=0, color=\"k\")\n",
    "vis.plot_1d_slice(sim, ax, \"rho\", cell_averaged=True, x=None, xlabel=True)"
   ]
  },
  {
   "cell_type": "code",
   "execution_count": 5,
   "metadata": {},
   "outputs": [
    {
     "name": "stdout",
     "output_type": "stream",
     "text": [
      "Category                                               Calls      Cumulative Time\n",
      "-----------------------------------------------------------------------------------\n",
      "!ExplicitODESolver.integrate.body                          1                 1.15\n",
      "AdvectionSolver.log_quantity                               7                 0.00\n",
      "ExplicitODESolver.integrate                                1                 1.22\n",
      "ExplicitODESolver.take_step                                5                 1.12\n",
      "FiniteVolumeSolver.f                                      20                 1.08\n",
      "FiniteVolumeSolver.inplace_apply_bc                      102                 0.01\n",
      "FiniteVolumeSolver.inplace_compute_fluxes                 20                 1.04\n",
      "FiniteVolumeSolver.inplace_integrate_fluxes               40                 0.24\n",
      "FiniteVolumeSolver.inplace_interpolate_faces              40                 0.79\n",
      "FiniteVolumeSolver.riemann_solver                         40                 0.07\n",
      "FiniteVolumeSolver.run                                     1                 1.22\n",
      "current_step                                               0                 0.00\n",
      "\n"
     ]
    }
   ],
   "source": [
    "sim.timer.print_report()"
   ]
  }
 ],
 "metadata": {
  "kernelspec": {
   "display_name": "superfv",
   "language": "python",
   "name": "python3"
  },
  "language_info": {
   "codemirror_mode": {
    "name": "ipython",
    "version": 3
   },
   "file_extension": ".py",
   "mimetype": "text/x-python",
   "name": "python",
   "nbconvert_exporter": "python",
   "pygments_lexer": "ipython3",
   "version": "3.12.9"
  }
 },
 "nbformat": 4,
 "nbformat_minor": 4
}
