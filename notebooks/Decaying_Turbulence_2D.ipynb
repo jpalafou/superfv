{
 "cells": [
  {
   "cell_type": "code",
   "execution_count": null,
   "id": "2ff11bd0",
   "metadata": {},
   "outputs": [],
   "source": [
    "from functools import partial\n",
    "\n",
    "import matplotlib.pyplot as plt\n",
    "\n",
    "from superfv import (\n",
    "    EulerSolver,\n",
    "    plot_2d_slice,\n",
    ")\n",
    "from superfv.initial_conditions import decaying_isotropic_turbulence"
   ]
  },
  {
   "cell_type": "code",
   "execution_count": null,
   "id": "d7b5912f",
   "metadata": {},
   "outputs": [],
   "source": [
    "seed = 1\n",
    "N = 64\n",
    "T = [0.05, 0.01, 0.015, 0.02]\n",
    "\n",
    "configs = {\n",
    "    \"p0\": dict(riemann_solver=\"hllc\", p=0),\n",
    "    \"MUSCL-Hancock\": dict(\n",
    "        riemann_solver=\"hllc\",\n",
    "        p=1,\n",
    "        MUSCL=True,\n",
    "        MUSCL_limiter=\"PP2D\",\n",
    "        flux_recipe=2,\n",
    "    ),\n",
    "    \"ZS3\": dict(\n",
    "        riemann_solver=\"hllc\",\n",
    "        p=3,\n",
    "        flux_recipe=2,\n",
    "        lazy_primitives=True,\n",
    "        ZS=True,\n",
    "        GL=True,\n",
    "        include_corners=True,\n",
    "        PAD={\"rho\": (0, None)},\n",
    "    ),\n",
    "    # \"MM3\": dict(\n",
    "    #     riemann_solver=\"hllc\",\n",
    "    #     p=3,\n",
    "    #     flux_recipe=2,\n",
    "    #     lazy_primitives=True,\n",
    "    #     MOOD=True,\n",
    "    #     limiting_vars=(\"rho\", \"vx\"),\n",
    "    #     cascade=\"muscl\",\n",
    "    #     MUSCL_limiter=\"moncen\",\n",
    "    #     max_MOOD_iters=1,\n",
    "    #     NAD=True,\n",
    "    #     NAD_rtol=1e-2,\n",
    "    #     NAD_atol=1e-8,\n",
    "    #     include_corners=True,\n",
    "    #     PAD={\"rho\": (0, None)},\n",
    "    # ),\n",
    "}"
   ]
  },
  {
   "cell_type": "code",
   "execution_count": null,
   "id": "ed100f22",
   "metadata": {},
   "outputs": [],
   "source": [
    "sims = {}\n",
    "for name, config in configs.items():\n",
    "    print(f\"Running simulation: {name}\")\n",
    "    sim = EulerSolver(\n",
    "        ic=partial(decaying_isotropic_turbulence, seed=seed, M=10),\n",
    "        isothermal=True,\n",
    "        nx=N,\n",
    "        ny=N,\n",
    "        **config,\n",
    "    )\n",
    "\n",
    "    try:\n",
    "        sim.run(\n",
    "            T,\n",
    "            q_max=2,\n",
    "            allow_overshoot=True,\n",
    "            muscl_hancock=config.get(\"MUSCL\", False),\n",
    "            log_freq=20,\n",
    "        )\n",
    "        sims[name] = sim\n",
    "    except RuntimeError as e:\n",
    "        print(f\"Simulation '{name}' failed: {e}\")"
   ]
  },
  {
   "cell_type": "code",
   "execution_count": null,
   "id": "a97ae70f",
   "metadata": {},
   "outputs": [],
   "source": [
    "sim = sims[\"p0\"]\n",
    "\n",
    "fig, axs = plt.subplots(\n",
    "    len(T) + 1, 2, sharex=True, sharey=True, figsize=(6, (len(T) + 1) * 2)\n",
    ")\n",
    "\n",
    "axs[0, 0].set_title(r\"$\\rho$\")\n",
    "axs[0, 1].set_title(r\"$v$\")\n",
    "\n",
    "for i, t in enumerate([0] + T):\n",
    "    axs[i, 0].set_ylabel(f\"$t={t}$\")\n",
    "    plot_2d_slice(sim, axs[i, 0], \"rho\", cell_averaged=True, colorbar=True, t=t)\n",
    "    plot_2d_slice(sim, axs[i, 1], \"v\", cell_averaged=True, colorbar=True, t=t)"
   ]
  },
  {
   "cell_type": "code",
   "execution_count": null,
   "id": "2ee430ad",
   "metadata": {},
   "outputs": [],
   "source": [
    "sim = sims[\"MUSCL-Hancock\"]\n",
    "\n",
    "fig, axs = plt.subplots(\n",
    "    len(T) + 1, 2, sharex=True, sharey=True, figsize=(6, (len(T) + 1) * 2)\n",
    ")\n",
    "\n",
    "axs[0, 0].set_title(r\"$\\rho$\")\n",
    "axs[0, 1].set_title(r\"$v$\")\n",
    "\n",
    "for i, t in enumerate([0] + T):\n",
    "    axs[i, 0].set_ylabel(f\"$t={t}$\")\n",
    "    plot_2d_slice(sim, axs[i, 0], \"rho\", cell_averaged=True, colorbar=True, t=t)\n",
    "    plot_2d_slice(sim, axs[i, 1], \"v\", cell_averaged=True, colorbar=True, t=t)"
   ]
  },
  {
   "cell_type": "code",
   "execution_count": null,
   "id": "c1a8be11",
   "metadata": {},
   "outputs": [],
   "source": [
    "sim = sims[\"ZS3\"]\n",
    "\n",
    "fig, axs = plt.subplots(\n",
    "    len(T) + 1, 2, sharex=True, sharey=True, figsize=(6, (len(T) + 1) * 2)\n",
    ")\n",
    "\n",
    "axs[0, 0].set_title(r\"$\\rho$\")\n",
    "axs[0, 1].set_title(r\"$v$\")\n",
    "\n",
    "for i, t in enumerate([0] + T):\n",
    "    axs[i, 0].set_ylabel(f\"$t={t}$\")\n",
    "    plot_2d_slice(sim, axs[i, 0], \"rho\", cell_averaged=True, colorbar=True, t=t)\n",
    "    plot_2d_slice(sim, axs[i, 1], \"v\", cell_averaged=True, colorbar=True, t=t)"
   ]
  }
 ],
 "metadata": {
  "kernelspec": {
   "display_name": "superfv",
   "language": "python",
   "name": "python3"
  },
  "language_info": {
   "codemirror_mode": {
    "name": "ipython",
    "version": 3
   },
   "file_extension": ".py",
   "mimetype": "text/x-python",
   "name": "python",
   "nbconvert_exporter": "python",
   "pygments_lexer": "ipython3",
   "version": "3.12.9"
  }
 },
 "nbformat": 4,
 "nbformat_minor": 5
}
