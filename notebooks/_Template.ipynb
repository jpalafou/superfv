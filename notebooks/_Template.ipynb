{
 "cells": [
  {
   "cell_type": "code",
   "execution_count": null,
   "id": "e9120827",
   "metadata": {},
   "outputs": [],
   "source": [
    "import matplotlib.pyplot as plt\n",
    "\n",
    "from superfv import EulerSolver, plot_1d_slice"
   ]
  },
  {
   "cell_type": "code",
   "execution_count": null,
   "id": "842c848f",
   "metadata": {},
   "outputs": [],
   "source": [
    "configs = {\n",
    "    \"p0\": dict(riemann_solver=\"hllc\", p=0),\n",
    "    \"MUSCL-Hancock\": dict(\n",
    "        riemann_solver=\"hllc\",\n",
    "        p=1,\n",
    "        MUSCL=True,\n",
    "        MUSCL_limiter=\"moncen\",\n",
    "        flux_recipe=2,\n",
    "        SED=True,\n",
    "    ),\n",
    "}"
   ]
  },
  {
   "cell_type": "code",
   "execution_count": null,
   "id": "633a0267",
   "metadata": {},
   "outputs": [],
   "source": [
    "sims = {}\n",
    "for name, config in configs.items():\n",
    "    sim = EulerSolver(**config)\n",
    "    try:\n",
    "        sim.run(n=1, muscl_hancock=config.get(\"MUSCL\", False))\n",
    "    except Exception as e:\n",
    "        print(f\"Error occurred while running {name}: {e}\")\n",
    "    sims[name] = sim"
   ]
  },
  {
   "cell_type": "code",
   "execution_count": null,
   "id": "96cffcfe",
   "metadata": {},
   "outputs": [],
   "source": [
    "fig, ax = plt.subplots()\n",
    "ax.set_ylabel(r\"$\\rho$\")\n",
    "ax.set_xlabel(r\"$x$\")\n",
    "\n",
    "for name, sim in sims.items():\n",
    "    plot_1d_slice(sim, ax, \"rho\", label=name)"
   ]
  }
 ],
 "metadata": {
  "kernelspec": {
   "display_name": "superfv",
   "language": "python",
   "name": "python3"
  },
  "language_info": {
   "codemirror_mode": {
    "name": "ipython",
    "version": 3
   },
   "file_extension": ".py",
   "mimetype": "text/x-python",
   "name": "python",
   "nbconvert_exporter": "python",
   "pygments_lexer": "ipython3",
   "version": "3.12.9"
  }
 },
 "nbformat": 4,
 "nbformat_minor": 5
}
