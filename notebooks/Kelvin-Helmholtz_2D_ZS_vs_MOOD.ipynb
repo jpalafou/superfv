{
 "cells": [
  {
   "cell_type": "code",
   "execution_count": 1,
   "id": "d85676fe",
   "metadata": {},
   "outputs": [],
   "source": [
    "import matplotlib.pyplot as plt\n",
    "\n",
    "from superfv import EulerSolver, OutputLoader, plot_2d_slice\n",
    "from superfv.initial_conditions import kelvin_helmholtz_2d"
   ]
  },
  {
   "cell_type": "code",
   "execution_count": 2,
   "id": "8d7f60c7",
   "metadata": {},
   "outputs": [
    {
     "name": "stdout",
     "output_type": "stream",
     "text": [
      "Successfully read simulation output from \"../out/kelvin-helmholtz/MUSCL-Hancock\"\n",
      "Successfully read simulation output from \"../out/kelvin-helmholtz/ZS3\"\n",
      "Successfully read simulation output from \"../out/kelvin-helmholtz/MM3\"\n"
     ]
    }
   ],
   "source": [
    "N = 64\n",
    "T = 0.8\n",
    "gamma = 1.4\n",
    "\n",
    "path = \"../out/kelvin-helmholtz/\"\n",
    "overwrite = []\n",
    "\n",
    "configs = {\n",
    "    \"MUSCL-Hancock\": dict(\n",
    "        riemann_solver=\"hllc\",\n",
    "        flux_recipe=2,\n",
    "        p=1,\n",
    "        MUSCL=True,\n",
    "        MUSCL_limiter=\"moncen\",\n",
    "        SED=True,\n",
    "    ),\n",
    "    \"ZS3\": dict(\n",
    "        GL=True,\n",
    "        riemann_solver=\"hllc\",\n",
    "        flux_recipe=2,\n",
    "        lazy_primitives=True,\n",
    "        p=3,\n",
    "        ZS=True,\n",
    "        include_corners=True,\n",
    "        adaptive_dt=False,\n",
    "        PAD={\"rho\": (0, None), \"P\": (0, None)},\n",
    "        SED=True,\n",
    "    ),\n",
    "    \"MM3\": dict(\n",
    "        riemann_solver=\"hllc\",\n",
    "        flux_recipe=2,\n",
    "        lazy_primitives=True,\n",
    "        p=3,\n",
    "        MOOD=True,\n",
    "        cascade=\"muscl\",\n",
    "        MUSCL_limiter=\"moncen\",\n",
    "        max_MOOD_iters=1,\n",
    "        limiting_vars=\"actives\",\n",
    "        NAD=True,\n",
    "        include_corners=True,\n",
    "        NAD_rtol=1e-2,\n",
    "        NAD_atol=1e-2,\n",
    "        PAD={\"rho\": (0, None), \"P\": (0, None)},\n",
    "        SED=True,\n",
    "    ),\n",
    "}\n",
    "\n",
    "sims = {}\n",
    "for name, config in configs.items():\n",
    "    if overwrite != \"all\":\n",
    "        if name not in overwrite:\n",
    "            try:\n",
    "                sim = OutputLoader(path + name)\n",
    "                sims[name] = sim\n",
    "                continue\n",
    "            except FileNotFoundError:\n",
    "                pass\n",
    "\n",
    "    print(f\"Running {name}...\")\n",
    "    sim = EulerSolver(\n",
    "        ic=kelvin_helmholtz_2d,\n",
    "        gamma=gamma,\n",
    "        nx=N,\n",
    "        ny=N,\n",
    "        cupy=True,\n",
    "        **config,\n",
    "    )\n",
    "\n",
    "    try:\n",
    "        if config.get(\"MUSCL\", False):\n",
    "            sim.musclhancock(T, allow_overshoot=True, path=path + name, overwrite=True)\n",
    "        else:\n",
    "            sim.run(T, q_max=2, allow_overshoot=True, path=path + name, overwrite=True)\n",
    "        sims[name] = sim\n",
    "    except Exception as e:\n",
    "        print(f\"Failed: {e}\")\n",
    "        continue"
   ]
  },
  {
   "cell_type": "code",
   "execution_count": 3,
   "id": "d06a14f4",
   "metadata": {},
   "outputs": [
    {
     "data": {
      "image/png": "[encoded data removed]",
      "text/plain": [
       "<Figure size 640x480 with 2 Axes>"
      ]
     },
     "metadata": {},
     "output_type": "display_data"
    }
   ],
   "source": [
    "fig, ax = plt.subplots()\n",
    "\n",
    "sim = sims[\"MUSCL-Hancock\"]\n",
    "\n",
    "im, cbar = plot_2d_slice(sim, ax, \"rho\", cmap=\"gnuplot2\")\n",
    "\n",
    "# set cbar title\n",
    "cbar.set_label(r\"$\\rho$\")"
   ]
  },
  {
   "cell_type": "code",
   "execution_count": null,
   "id": "d7e1cd44-9193-47a0-8463-0ea4071220df",
   "metadata": {},
   "outputs": [],
   "source": []
  }
 ],
 "metadata": {
  "kernelspec": {
   "display_name": "superfv",
   "language": "python",
   "name": "python3"
  },
  "language_info": {
   "codemirror_mode": {
    "name": "ipython",
    "version": 3
   },
   "file_extension": ".py",
   "mimetype": "text/x-python",
   "name": "python",
   "nbconvert_exporter": "python",
   "pygments_lexer": "ipython3",
   "version": "3.12.9"
  }
 },
 "nbformat": 4,
 "nbformat_minor": 5
}
