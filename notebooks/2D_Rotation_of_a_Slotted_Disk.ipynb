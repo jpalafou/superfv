{
 "cells": [
  {
   "cell_type": "code",
   "execution_count": 1,
   "metadata": {},
   "outputs": [],
   "source": [
    "from superfv import AdvectionSolver, initial_conditions\n",
    "import numpy as np\n",
    "import matplotlib.pyplot as plt"
   ]
  },
  {
   "cell_type": "code",
   "execution_count": 2,
   "metadata": {},
   "outputs": [
    {
     "name": "stderr",
     "output_type": "stream",
     "text": [
      "100%|██████████| 6.283185307179586/6.283185307179586 [02:42]   \n"
     ]
    }
   ],
   "source": [
    "def passive_square(x, y, z):\n",
    "    xc, yc = x - 0.5, y - 0.75\n",
    "    return np.where(\n",
    "        (np.abs(xc) < 0.15) & (np.abs(yc) < 0.15),\n",
    "        1.0,\n",
    "        0.0,\n",
    "    )\n",
    "\n",
    "\n",
    "solver = AdvectionSolver(\n",
    "    ic=initial_conditions.slotted_disk,\n",
    "    # ic_passives={\"passive_square\": passive_square},\n",
    "    bcx=\"ic\",\n",
    "    bcy=\"ic\",\n",
    "    nx=64,\n",
    "    ny=64,\n",
    "    nz=1,\n",
    "    p=3,\n",
    "    interpolation_scheme=\"transverse\",\n",
    "    MOOD=True,\n",
    ")\n",
    "\n",
    "solver.run([np.pi, 2 * np.pi])"
   ]
  },
  {
   "cell_type": "code",
   "execution_count": 3,
   "metadata": {},
   "outputs": [
    {
     "data": {
      "text/plain": [
       "<matplotlib.colorbar.Colorbar at 0x11862a7e0>"
      ]
     },
     "execution_count": 3,
     "metadata": {},
     "output_type": "execute_result"
    },
    {
     "data": {
      "image/png": "[encoded data removed]",
      "text/plain": [
       "<Figure size 1000x500 with 2 Axes>"
      ]
     },
     "metadata": {},
     "output_type": "display_data"
    }
   ],
   "source": [
    "fig, ax = plt.subplots(1, 1, figsize=(10, 5))\n",
    "solver.plot_2d_slice(ax, \"rho\", x=None, y=None)\n",
    "# add colorbar\n",
    "ax.figure.colorbar(ax.images[0], ax=ax)"
   ]
  },
  {
   "cell_type": "code",
   "execution_count": 4,
   "metadata": {},
   "outputs": [
    {
     "name": "stdout",
     "output_type": "stream",
     "text": [
      "Category                                               Calls      Cumulative Time\n",
      "-----------------------------------------------------------------------------------\n",
      "!FiniteVolumeSolver.run                                    1               162.44\n",
      "AdvectionSolver.advection_upwind                        4224                 0.62\n",
      "AdvectionSolver.compute_dt                              2112                 0.17\n",
      "AdvectionSolver.minisnapshot                             529                 0.02\n",
      "ExplicitODESolver.integrate                                1               162.44\n",
      "ExplicitODESolver.integrate.body                           1               162.37\n",
      "ExplicitODESolver.minisnapshot                           529                 0.00\n",
      "FiniteVolumeSolver.MOOD_loop                            2112                 0.52\n",
      "FiniteVolumeSolver.apply_bc                            14787               154.13\n",
      "FiniteVolumeSolver.compute_dt_and_fluxes                2112               160.88\n",
      "FiniteVolumeSolver.compute_numerical_fluxes             4224                 1.64\n",
      "FiniteVolumeSolver.f                                    2112               161.71\n",
      "FiniteVolumeSolver.interpolate                         16902                 5.43\n",
      "FiniteVolumeSolver.interpolate_cell_averages            2112                 0.86\n",
      "FiniteVolumeSolver.interpolate_cell_centers             2115                 1.10\n",
      "FiniteVolumeSolver.interpolate_face_nodes               4224                 2.73\n",
      "FiniteVolumeSolver.minisnapshot                          529                 0.00\n",
      "FiniteVolumeSolver.snapshot                                3                 0.09\n",
      "\n"
     ]
    }
   ],
   "source": [
    "print(solver.timer.report())"
   ]
  }
 ],
 "metadata": {
  "kernelspec": {
   "display_name": "superfv",
   "language": "python",
   "name": "python3"
  },
  "language_info": {
   "codemirror_mode": {
    "name": "ipython",
    "version": 3
   },
   "file_extension": ".py",
   "mimetype": "text/x-python",
   "name": "python",
   "nbconvert_exporter": "python",
   "pygments_lexer": "ipython3",
   "version": "3.12.9"
  }
 },
 "nbformat": 4,
 "nbformat_minor": 2
}
