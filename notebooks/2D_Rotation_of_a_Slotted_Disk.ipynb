{
 "cells": [
  {
   "cell_type": "code",
   "execution_count": 1,
   "metadata": {},
   "outputs": [],
   "source": [
    "import matplotlib.pyplot as plt\n",
    "import numpy as np\n",
    "\n",
    "from superfv import AdvectionSolver\n",
    "import superfv.initial_conditions as ic\n",
    "import superfv.visualization as vis"
   ]
  },
  {
   "cell_type": "code",
   "execution_count": 2,
   "metadata": {},
   "outputs": [
    {
     "name": "stderr",
     "output_type": "stream",
     "text": [
      "100%|██████████| 20/20 [00:02<00:00,  8.08it/s]\n"
     ]
    }
   ],
   "source": [
    "def passive_square(x, y, z):\n",
    "    xc, yc = x - 0.5, y - 0.75\n",
    "    return np.where(\n",
    "        (np.abs(xc) < 0.15) & (np.abs(yc) < 0.15),\n",
    "        1.0,\n",
    "        0.0,\n",
    "    )\n",
    "\n",
    "\n",
    "sim = AdvectionSolver(\n",
    "    ic=ic.slotted_disk,\n",
    "    ic_passives={\"passive_square\": passive_square},\n",
    "    bcx=\"ic\",\n",
    "    bcy=\"ic\",\n",
    "    nx=64,\n",
    "    ny=64,\n",
    "    nz=1,\n",
    "    p=3,\n",
    "    interpolation_scheme=\"transverse\",\n",
    "    MOOD=True,\n",
    "    NAD=1e-5,\n",
    ")\n",
    "\n",
    "# sim.run([np.pi, 2 * np.pi])\n",
    "sim.run(n=20)"
   ]
  },
  {
   "cell_type": "code",
   "execution_count": 3,
   "metadata": {},
   "outputs": [
    {
     "data": {
      "text/plain": [
       "<matplotlib.colorbar.Colorbar at 0x1116e1850>"
      ]
     },
     "execution_count": 3,
     "metadata": {},
     "output_type": "execute_result"
    },
    {
     "data": {
      "image/png": "[encoded data removed]",
      "text/plain": [
       "<Figure size 1000x500 with 2 Axes>"
      ]
     },
     "metadata": {},
     "output_type": "display_data"
    }
   ],
   "source": [
    "fig, ax = plt.subplots(1, 1, figsize=(10, 5))\n",
    "vis.plot_2d_slice(sim, ax, \"rho\", x=None, y=None)\n",
    "# add colorbar\n",
    "ax.figure.colorbar(ax.images[0], ax=ax)"
   ]
  },
  {
   "cell_type": "code",
   "execution_count": 4,
   "metadata": {},
   "outputs": [
    {
     "name": "stdout",
     "output_type": "stream",
     "text": [
      "Category                                              Calls      Cumulative Time\n",
      "----------------------------------------------------------------------------------\n",
      "!ExplicitODESolver.integrate.body                         1                 2.50\n",
      "!FiniteVolumeSolver.run                                   1                 2.52\n",
      "AdvectionSolver.advection_upwind                        320                 0.07\n",
      "AdvectionSolver.compute_dt                              160                 0.01\n",
      "AdvectionSolver.minisnapshot                             21                 0.00\n",
      "ExplicitODESolver.integrate                               1                 2.52\n",
      "ExplicitODESolver.minisnapshot                           21                 0.00\n",
      "FiniteVolumeSolver.MOOD_loop                             80                 1.36\n",
      "FiniteVolumeSolver.apply_bc                            1042                 1.89\n",
      "FiniteVolumeSolver.compute_dt_and_fluxes                160                 1.97\n",
      "FiniteVolumeSolver.compute_numerical_fluxes             320                 0.16\n",
      "FiniteVolumeSolver.f                                     80                 2.45\n",
      "FiniteVolumeSolver.interpolate                          642                 0.23\n",
      "FiniteVolumeSolver.interpolate_cell_centers               2                 0.01\n",
      "FiniteVolumeSolver.interpolate_face_nodes               320                 0.21\n",
      "FiniteVolumeSolver.minisnapshot                          21                 0.00\n",
      "FiniteVolumeSolver.snapshot                               2                 0.02\n",
      "\n"
     ]
    }
   ],
   "source": [
    "sim.timer.print_report()"
   ]
  }
 ],
 "metadata": {
  "kernelspec": {
   "display_name": "superfv",
   "language": "python",
   "name": "python3"
  },
  "language_info": {
   "codemirror_mode": {
    "name": "ipython",
    "version": 3
   },
   "file_extension": ".py",
   "mimetype": "text/x-python",
   "name": "python",
   "nbconvert_exporter": "python",
   "pygments_lexer": "ipython3",
   "version": "3.12.9"
  }
 },
 "nbformat": 4,
 "nbformat_minor": 2
}
