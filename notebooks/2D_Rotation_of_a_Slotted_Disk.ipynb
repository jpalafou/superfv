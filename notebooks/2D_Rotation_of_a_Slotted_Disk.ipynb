{
 "cells": [
  {
   "cell_type": "code",
   "execution_count": 1,
   "metadata": {},
   "outputs": [],
   "source": [
    "import matplotlib.pyplot as plt\n",
    "import numpy as np\n",
    "\n",
    "from superfv import AdvectionSolver\n",
    "import superfv.initial_conditions as ic\n",
    "import superfv.visualization as vis"
   ]
  },
  {
   "cell_type": "code",
   "execution_count": 2,
   "metadata": {},
   "outputs": [
    {
     "name": "stderr",
     "output_type": "stream",
     "text": [
      "100%|██████████| 10/10 [00:00<00:00, 22.81it/s]\n"
     ]
    }
   ],
   "source": [
    "def passive_square(x, y, z, t, xp):\n",
    "    xc, yc = x - 0.5, y - 0.75\n",
    "    return xp.where(\n",
    "        (xp.abs(xc) < 0.15) & (xp.abs(yc) < 0.15),\n",
    "        1.0,\n",
    "        0.0,\n",
    "    )\n",
    "\n",
    "\n",
    "sim = AdvectionSolver(\n",
    "    ic=lambda idx, x, y, z, t, xp: ic.slotted_disk(\n",
    "        idx, x, y, z, t, rotation=\"ccw\", xp=xp\n",
    "    ),\n",
    "    ic_passives={\"passive_square\": passive_square},\n",
    "    bcx=\"ic\",\n",
    "    bcy=\"ic\",\n",
    "    nx=64,\n",
    "    ny=64,\n",
    "    p=3,\n",
    "    interpolation_scheme=\"gauss-legendre\",\n",
    ")\n",
    "\n",
    "sim.run(n=10)"
   ]
  },
  {
   "cell_type": "code",
   "execution_count": 3,
   "metadata": {},
   "outputs": [
    {
     "data": {
      "text/plain": [
       "(np.float64(-0.1279964661673785), np.float64(1.1599413587124983))"
      ]
     },
     "execution_count": 3,
     "metadata": {},
     "output_type": "execute_result"
    }
   ],
   "source": [
    "np.min(sim.minisnapshots[\"min_rho\"]), np.max(sim.minisnapshots[\"max_rho\"])"
   ]
  },
  {
   "cell_type": "code",
   "execution_count": 4,
   "metadata": {},
   "outputs": [
    {
     "data": {
      "text/plain": [
       "<matplotlib.colorbar.Colorbar at 0x111b41c40>"
      ]
     },
     "execution_count": 4,
     "metadata": {},
     "output_type": "execute_result"
    },
    {
     "data": {
      "image/png": "[encoded data removed]",
      "text/plain": [
       "<Figure size 1000x500 with 2 Axes>"
      ]
     },
     "metadata": {},
     "output_type": "display_data"
    }
   ],
   "source": [
    "fig, ax = plt.subplots(1, 1, figsize=(10, 5))\n",
    "vis.plot_2d_slice(sim, ax, \"rho\", x=None, y=None)\n",
    "# add colorbar\n",
    "ax.figure.colorbar(ax.images[0], ax=ax)"
   ]
  },
  {
   "cell_type": "code",
   "execution_count": 5,
   "metadata": {},
   "outputs": [
    {
     "name": "stdout",
     "output_type": "stream",
     "text": [
      "Category                                               Calls      Cumulative Time\n",
      "-----------------------------------------------------------------------------------\n",
      "!ExplicitODESolver.integrate.body                          1                 0.46\n",
      "AdvectionSolver.log_quantity                              12                 0.00\n",
      "ExplicitODESolver.integrate                                1                 0.48\n",
      "ExplicitODESolver.take_step                               10                 0.43\n",
      "FiniteVolumeSolver.f                                      40                 0.43\n",
      "FiniteVolumeSolver.inplace_apply_bc                      202                 0.11\n",
      "FiniteVolumeSolver.inplace_compute_fluxes                 40                 0.42\n",
      "FiniteVolumeSolver.inplace_integrate_fluxes               80                 0.14\n",
      "FiniteVolumeSolver.inplace_interpolate_faces              80                 0.24\n",
      "FiniteVolumeSolver.riemann_solver                         80                 0.06\n",
      "FiniteVolumeSolver.run                                     1                 0.48\n",
      "current_step                                               0                 0.00\n",
      "\n"
     ]
    }
   ],
   "source": [
    "sim.timer.print_report()"
   ]
  }
 ],
 "metadata": {
  "kernelspec": {
   "display_name": "superfv",
   "language": "python",
   "name": "python3"
  },
  "language_info": {
   "codemirror_mode": {
    "name": "ipython",
    "version": 3
   },
   "file_extension": ".py",
   "mimetype": "text/x-python",
   "name": "python",
   "nbconvert_exporter": "python",
   "pygments_lexer": "ipython3",
   "version": "3.12.9"
  }
 },
 "nbformat": 4,
 "nbformat_minor": 2
}
